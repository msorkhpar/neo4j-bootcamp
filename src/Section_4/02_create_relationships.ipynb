{
 "cells": [
  {
   "cell_type": "code",
   "execution_count": null,
   "id": "0",
   "metadata": {},
   "outputs": [],
   "source": [
    "import os\n",
    "os.chdir(\"/home/jovyan/work/\")\n",
    "\n",
    "from neo4j_helper import Neo4jHelper\n",
    "\n",
    "neo4j = Neo4jHelper()"
   ]
  },
  {
   "cell_type": "markdown",
   "id": "1",
   "metadata": {},
   "source": [
    "## Clear the DB\n"
   ]
  },
  {
   "cell_type": "code",
   "execution_count": null,
   "id": "2",
   "metadata": {},
   "outputs": [],
   "source": [
    "neo4j.clear_database()"
   ]
  },
  {
   "cell_type": "markdown",
   "id": "3",
   "metadata": {},
   "source": [
    "### Create a relationship"
   ]
  },
  {
   "cell_type": "code",
   "execution_count": null,
   "id": "4",
   "metadata": {},
   "outputs": [],
   "source": [
    "\n",
    "neo4j.cypher(\"\"\"\n",
    "    CREATE (n:Supplier {name:'s'}) ,\n",
    "    (m:Client {name:'c'}),\n",
    "    (n)-[r:Supplied {product:'p'}]->(m)\n",
    "    RETURN n,r,m\n",
    "\"\"\").show()"
   ]
  },
  {
   "cell_type": "markdown",
   "id": "5",
   "metadata": {},
   "source": [
    "## Alternative syntax"
   ]
  },
  {
   "cell_type": "code",
   "execution_count": null,
   "id": "6",
   "metadata": {},
   "outputs": [],
   "source": [
    "neo4j.cypher(\"\"\"\n",
    "    CREATE (n:Supplier {name:'s'})-[r:Supplied {product:'p'}]->(m:Client {name:'c'}) RETURN n,r,m\n",
    "\"\"\").show()\n"
   ]
  },
  {
   "cell_type": "code",
   "execution_count": null,
   "id": "7",
   "metadata": {},
   "outputs": [],
   "source": [
    "(\n",
    "    neo4j.cypher(\"\"\"\n",
    "    CREATE p=(t:Person {name:'Tim'})-[:Follows]->(j:Person {name:'John'})-[:Follows]->(k:Person {name:'Kate'})-[:Follows]-> (t) -[:Follows]-> (k) \n",
    "    RETURN p\n",
    "    \"\"\")\n",
    "    .with_caption(\"name\")\n",
    "    .show()\n",
    ")"
   ]
  }
 ],
 "metadata": {
  "kernelspec": {
   "display_name": "Python 3 (ipykernel)",
   "language": "python",
   "name": "python3"
  },
  "language_info": {
   "codemirror_mode": {
    "name": "ipython",
    "version": 3
   },
   "file_extension": ".py",
   "mimetype": "text/x-python",
   "name": "python",
   "nbconvert_exporter": "python",
   "pygments_lexer": "ipython3",
   "version": "3.11.6"
  }
 },
 "nbformat": 4,
 "nbformat_minor": 5
}
