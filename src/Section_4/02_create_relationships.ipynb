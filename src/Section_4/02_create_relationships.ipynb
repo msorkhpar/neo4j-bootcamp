{
 "cells": [
  {
   "cell_type": "code",
   "execution_count": null,
   "id": "0",
   "metadata": {},
   "outputs": [],
   "source": [
    "import os\n",
    "\n",
    "os.chdir(\"/home/jovyan/work/\")\n",
    "\n",
    "from neo4j_client_util import Neo4jClient\n",
    "\n",
    "client = Neo4jClient()"
   ]
  },
  {
   "cell_type": "markdown",
   "id": "1",
   "metadata": {},
   "source": [
    "## Clear the DB\n"
   ]
  },
  {
   "cell_type": "code",
   "execution_count": null,
   "id": "2",
   "metadata": {},
   "outputs": [],
   "source": [
    "client.clear_database()"
   ]
  },
  {
   "cell_type": "markdown",
   "id": "3",
   "metadata": {},
   "source": [
    "### Create a relationship"
   ]
  },
  {
   "cell_type": "code",
   "execution_count": null,
   "id": "4",
   "metadata": {},
   "outputs": [],
   "source": [
    "with  client.cypher(\"\"\"\n",
    "    CREATE (n:Supplier {name:'s'}) ,\n",
    "    (m:Client {name:'c'}),\n",
    "    (n)-[r:Supplied {product:'p'}]->(m)\n",
    "    RETURN n,r,m\n",
    "    \"\"\") as executor:\n",
    "    executor.show()"
   ]
  },
  {
   "cell_type": "markdown",
   "id": "5",
   "metadata": {},
   "source": [
    "## Alternative syntax"
   ]
  },
  {
   "cell_type": "code",
   "execution_count": null,
   "id": "6",
   "metadata": {},
   "outputs": [],
   "source": [
    "with client.cypher(\"\"\"\n",
    "    CREATE (n:Supplier {name:'s'})-[r:Supplied {product:'p'}]->(m:Client {name:'c'}) RETURN n,r,m\n",
    "\"\"\") as executor:\n",
    "    executor.show()\n"
   ]
  },
  {
   "cell_type": "code",
   "execution_count": null,
   "id": "7",
   "metadata": {},
   "outputs": [],
   "source": [
    "with client.cypher(\"\"\"\n",
    "    CREATE p=(t:Person {name:'Tim'})-[:Follows]->(j:Person {name:'John'})-[:Follows]->(k:Person {name:'Kate'})-[:Follows]-> (t) -[:Follows]-> (k) \n",
    "    RETURN p\n",
    "    \"\"\") as executor:\n",
    "    executor.with_caption(\"name\").show()"
   ]
  }
 ],
 "metadata": {
  "kernelspec": {
   "display_name": "Python 3 (ipykernel)",
   "language": "python",
   "name": "python3"
  },
  "language_info": {
   "codemirror_mode": {
    "name": "ipython",
    "version": 3
   },
   "file_extension": ".py",
   "mimetype": "text/x-python",
   "name": "python",
   "nbconvert_exporter": "python",
   "pygments_lexer": "ipython3",
   "version": "3.11.6"
  }
 },
 "nbformat": 4,
 "nbformat_minor": 5
}
