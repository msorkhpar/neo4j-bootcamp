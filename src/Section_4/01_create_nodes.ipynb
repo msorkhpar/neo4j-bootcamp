{
 "cells": [
  {
   "cell_type": "code",
   "execution_count": 1,
   "id": "0",
   "metadata": {
    "ExecuteTime": {
     "end_time": "2024-03-14T07:02:58.041760962Z",
     "start_time": "2024-03-14T07:02:57.852987029Z"
    }
   },
   "outputs": [],
   "source": [
    "from neo4j_helper import Neo4jHelper\n",
    "\n",
    "neo4j = Neo4jHelper()"
   ]
  },
  {
   "cell_type": "markdown",
   "id": "1",
   "metadata": {},
   "source": [
    "## Clear the DB\n"
   ]
  },
  {
   "cell_type": "code",
   "execution_count": 2,
   "id": "2",
   "metadata": {
    "ExecuteTime": {
     "end_time": "2024-03-14T07:02:58.426004312Z",
     "start_time": "2024-03-14T07:02:58.326542024Z"
    }
   },
   "outputs": [],
   "source": [
    "neo4j.clear_database()"
   ]
  },
  {
   "cell_type": "markdown",
   "id": "3",
   "metadata": {},
   "source": [
    "### Create an empty node"
   ]
  },
  {
   "cell_type": "code",
   "execution_count": 3,
   "id": "4",
   "metadata": {
    "ExecuteTime": {
     "end_time": "2024-03-14T07:02:59.413361237Z",
     "start_time": "2024-03-14T07:02:59.253016046Z"
    }
   },
   "outputs": [
    {
     "data": {
      "text/plain": "GraphWidget(layout=Layout(height='500px', width='100%'))",
      "application/vnd.jupyter.widget-view+json": {
       "version_major": 2,
       "version_minor": 0,
       "model_id": "84c47537fbac40bd864152f7d752557f"
      }
     },
     "metadata": {},
     "output_type": "display_data"
    }
   ],
   "source": [
    "g = neo4j.execute_cypher(\"CREATE (n) RETURN n\")\n",
    "g.show()"
   ]
  },
  {
   "cell_type": "markdown",
   "id": "5",
   "metadata": {},
   "source": [
    "### Create a node with label"
   ]
  },
  {
   "cell_type": "code",
   "execution_count": null,
   "id": "6",
   "metadata": {},
   "outputs": [],
   "source": [
    "g = neo4j.execute_cypher(\"CREATE (n:Person) RETURN n\")\n",
    "g.show()"
   ]
  },
  {
   "cell_type": "markdown",
   "id": "7",
   "metadata": {},
   "source": [
    "## Create a node with labels and properties"
   ]
  },
  {
   "cell_type": "code",
   "execution_count": 4,
   "id": "8",
   "metadata": {
    "ExecuteTime": {
     "end_time": "2024-03-14T07:03:08.488216443Z",
     "start_time": "2024-03-14T07:03:08.457912370Z"
    }
   },
   "outputs": [
    {
     "data": {
      "text/plain": "GraphWidget(layout=Layout(height='500px', width='100%'))",
      "application/vnd.jupyter.widget-view+json": {
       "version_major": 2,
       "version_minor": 0,
       "model_id": "12b50d17bc334edeb8cc2618ec9c189b"
      }
     },
     "metadata": {},
     "output_type": "display_data"
    }
   ],
   "source": [
    "g = neo4j.execute_cypher(\"CREATE (n:Person {name:'Mo'}) RETURN n\")\n",
    "g.show()"
   ]
  },
  {
   "cell_type": "markdown",
   "id": "9",
   "metadata": {},
   "source": [
    "### Create a node with more than one label"
   ]
  },
  {
   "cell_type": "code",
   "execution_count": 5,
   "id": "10",
   "metadata": {
    "ExecuteTime": {
     "end_time": "2024-03-14T07:03:10.920772204Z",
     "start_time": "2024-03-14T07:03:10.890802465Z"
    }
   },
   "outputs": [
    {
     "data": {
      "text/plain": "GraphWidget(layout=Layout(height='500px', width='100%'))",
      "application/vnd.jupyter.widget-view+json": {
       "version_major": 2,
       "version_minor": 0,
       "model_id": "7c417d0cdcef439683f8aadad90b945d"
      }
     },
     "metadata": {},
     "output_type": "display_data"
    }
   ],
   "source": [
    "g = neo4j.execute_cypher(\n",
    "    \"CREATE (n:Person:`Software Engineer` {email:'a@outlook.com'}) RETURN n\",\n",
    "    caption=\"email\",\n",
    "    size_mapping=(150, 150),\n",
    ")\n",
    "g.show()"
   ]
  }
 ],
 "metadata": {
  "kernelspec": {
   "display_name": "Python 3 (ipykernel)",
   "language": "python",
   "name": "python3"
  },
  "language_info": {
   "codemirror_mode": {
    "name": "ipython",
    "version": 3
   },
   "file_extension": ".py",
   "mimetype": "text/x-python",
   "name": "python",
   "nbconvert_exporter": "python",
   "pygments_lexer": "ipython3",
   "version": "3.11.6"
  }
 },
 "nbformat": 4,
 "nbformat_minor": 5
}
