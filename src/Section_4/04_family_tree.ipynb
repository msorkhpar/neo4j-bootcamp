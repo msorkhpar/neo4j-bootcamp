{
 "cells": [
  {
   "cell_type": "code",
   "execution_count": null,
   "id": "0",
   "metadata": {},
   "outputs": [],
   "source": [
    "import os\n",
    "\n",
    "os.chdir(\"/home/jovyan/work/\")\n",
    "\n",
    "from neo4j_helper import Neo4jHelper, GraphLayout\n",
    "\n",
    "neo4j = Neo4jHelper()"
   ]
  },
  {
   "cell_type": "markdown",
   "id": "1",
   "metadata": {},
   "source": [
    "## Clear the DB\n"
   ]
  },
  {
   "cell_type": "code",
   "execution_count": null,
   "id": "2",
   "metadata": {},
   "outputs": [],
   "source": [
    "neo4j.clear_database()"
   ]
  },
  {
   "cell_type": "markdown",
   "id": "3",
   "metadata": {},
   "source": [
    "## Family tree example\n"
   ]
  },
  {
   "cell_type": "code",
   "execution_count": null,
   "id": "4",
   "metadata": {},
   "outputs": [],
   "source": [
    "neo4j.cypher(\"\"\"\n",
    "    CREATE\n",
    "    (D:Person{name: 'Dan'}),\n",
    "    (K:Person{name: 'Kate'}),\n",
    "    (M:Person{name: 'Mike'}),\n",
    "    (L:Person{name: 'Luke'}),\n",
    "    (S:Person{name: 'Steve'}),\n",
    "    (F:Person{name: 'Favour'}),\n",
    "    (faith:Person{name: 'Faith'}),\n",
    "    (J:Person{name: 'Jane'}),\n",
    "\n",
    "    p=(D)-[:MARRIED_TO]->(K)-[:MARRIED]->(D),\n",
    "    p2=(D)-[:PARENT_OF]->(M)<-[:PARENT_OF]-(K),\n",
    "    p3=(D)-[:PARENT_OF]->(L)<-[:PARENT_OF]-(K),\n",
    "    p4=(D)-[:PARENT_OF]->(S)<-[:PARENT_OF]-(K),\n",
    "    p5=(F)-[:MARRIED_TO]->(S)-[:MARRIED]->(F),\n",
    "    p6=(F)-[:PARENT_OF]->(faith)<-[:PARENT_OF]-(S),\n",
    "    p7=(F)-[:PARENT_OF]->(J)<-[:PARENT_OF]-(S)\n",
    "    RETURN *\n",
    "\"\"\").with_caption(\"name\").show(layout=GraphLayout.HIERARCHIC)"
   ]
  }
 ],
 "metadata": {
  "kernelspec": {
   "display_name": "Python 3 (ipykernel)",
   "language": "python",
   "name": "python3"
  },
  "language_info": {
   "codemirror_mode": {
    "name": "ipython",
    "version": 3
   },
   "file_extension": ".py",
   "mimetype": "text/x-python",
   "name": "python",
   "nbconvert_exporter": "python",
   "pygments_lexer": "ipython3",
   "version": "3.11.6"
  }
 },
 "nbformat": 4,
 "nbformat_minor": 5
}
