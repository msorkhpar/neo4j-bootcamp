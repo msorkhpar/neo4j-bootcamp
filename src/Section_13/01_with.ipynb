{
 "cells": [
  {
   "cell_type": "code",
   "execution_count": null,
   "id": "0",
   "metadata": {},
   "outputs": [],
   "source": [
    "import os\n",
    "\n",
    "os.chdir(\"/home/jovyan/work/\")\n",
    "\n",
    "from neo4j_client_util import Neo4jClient\n",
    "\n",
    "client = Neo4jClient()"
   ]
  },
  {
   "cell_type": "markdown",
   "id": "1",
   "metadata": {},
   "source": [
    "## Clear the DB\n"
   ]
  },
  {
   "cell_type": "code",
   "execution_count": null,
   "id": "2",
   "metadata": {},
   "outputs": [],
   "source": [
    "client.clear_database()"
   ]
  },
  {
   "cell_type": "markdown",
   "id": "3",
   "metadata": {},
   "source": [
    "### Create sample"
   ]
  },
  {
   "cell_type": "code",
   "execution_count": null,
   "id": "4",
   "metadata": {},
   "outputs": [],
   "source": [
    "with client.cypher(\"\"\" \n",
    "    CREATE ({num:1}),({num:2}),({num:3}),({num:4}),\n",
    "    ({num:5}),({num:6}),({num:7}),({num:8})\"\"\") as executor:\n",
    "    result = executor.execute()\n",
    "result"
   ]
  },
  {
   "cell_type": "markdown",
   "id": "5",
   "metadata": {},
   "source": [
    "### Use return related clause before return, using with clause\n",
    "Generally speaking, `Order By`, `Limit`, and `Skip` should appear after the `Return`. There are some case that we want to reshape the output to a new format and as a result of this action, the mentioned clauses can not be performed. However, we can handle this problem by adding `with` clause the query. "
   ]
  },
  {
   "cell_type": "code",
   "execution_count": null,
   "id": "6",
   "metadata": {},
   "outputs": [],
   "source": [
    "with client.cypher(\"\"\"\n",
    "    MATCH (n)\n",
    "    RETURN collect(n.num)\"\"\") as executor:\n",
    "    result = executor.execute_for_dataframe()\n",
    "result"
   ]
  },
  {
   "cell_type": "code",
   "execution_count": null,
   "id": "7",
   "metadata": {},
   "outputs": [],
   "source": [
    "with client.cypher(\"\"\"\n",
    "    MATCH (n)\n",
    "    WITH n \n",
    "    ORDER BY n.num ASC\n",
    "    SKIP 1\n",
    "    LIMIT 3\n",
    "    RETURN collect(n.num)\"\"\") as executor:\n",
    "    result = executor.execute_for_dataframe()\n",
    "result"
   ]
  }
 ],
 "metadata": {
  "kernelspec": {
   "display_name": "Python 3 (ipykernel)",
   "language": "python",
   "name": "python3"
  },
  "language_info": {
   "codemirror_mode": {
    "name": "ipython",
    "version": 3
   },
   "file_extension": ".py",
   "mimetype": "text/x-python",
   "name": "python",
   "nbconvert_exporter": "python",
   "pygments_lexer": "ipython3",
   "version": "3.11.6"
  }
 },
 "nbformat": 4,
 "nbformat_minor": 5
}
