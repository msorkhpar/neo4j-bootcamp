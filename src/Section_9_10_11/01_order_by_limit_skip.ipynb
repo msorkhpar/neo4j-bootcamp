{
 "cells": [
  {
   "cell_type": "code",
   "execution_count": null,
   "id": "0",
   "metadata": {},
   "outputs": [],
   "source": [
    "import os\n",
    "os.chdir(\"/home/jovyan/work/\")\n",
    "\n",
    "from neo4j_helper import Neo4jHelper\n",
    "\n",
    "neo4j = Neo4jHelper.setup_movie_graph()"
   ]
  },
  {
   "cell_type": "markdown",
   "id": "1",
   "metadata": {},
   "source": [
    "### Order by clause"
   ]
  },
  {
   "cell_type": "code",
   "execution_count": null,
   "id": "2",
   "metadata": {},
   "outputs": [],
   "source": [
    "neo4j.cypher(\"\"\"\n",
    "    MATCH(o:Person)\n",
    "    RETURN o.name, o.born\n",
    "    ORDER BY o.born ASC, o.name DESC\n",
    "\"\"\").execute_for_dataframe()"
   ]
  },
  {
   "cell_type": "markdown",
   "id": "3",
   "metadata": {},
   "source": [
    "### Random Order"
   ]
  },
  {
   "cell_type": "code",
   "execution_count": null,
   "id": "4",
   "metadata": {},
   "outputs": [],
   "source": [
    "neo4j.cypher(\"\"\"\n",
    "    MATCH(o:Person)\n",
    "    RETURN o.name, o.born\n",
    "    ORDER BY rand()\n",
    "\"\"\").execute_for_dataframe()"
   ]
  },
  {
   "cell_type": "markdown",
   "id": "5",
   "metadata": {},
   "source": [
    "### Limit"
   ]
  },
  {
   "cell_type": "code",
   "execution_count": null,
   "id": "6",
   "metadata": {},
   "outputs": [],
   "source": [
    "neo4j.cypher(\"\"\"\n",
    "    MATCH(o:Person)\n",
    "    RETURN o.name, o.born ORDER BY o.born LIMIT 5\n",
    "\"\"\").execute_for_dataframe()"
   ]
  },
  {
   "cell_type": "markdown",
   "id": "7",
   "metadata": {},
   "source": [
    "### Limit with Skip"
   ]
  },
  {
   "cell_type": "code",
   "execution_count": null,
   "id": "8",
   "metadata": {},
   "outputs": [],
   "source": [
    "neo4j.cypher(\"\"\"\n",
    "    MATCH(o:Person)\n",
    "    RETURN o.name, o.born ORDER BY o.born SKIP 1 limit 10\n",
    "\"\"\").execute_for_dataframe()"
   ]
  }
 ],
 "metadata": {
  "kernelspec": {
   "display_name": "Python 3 (ipykernel)",
   "language": "python",
   "name": "python3"
  },
  "language_info": {
   "codemirror_mode": {
    "name": "ipython",
    "version": 3
   },
   "file_extension": ".py",
   "mimetype": "text/x-python",
   "name": "python",
   "nbconvert_exporter": "python",
   "pygments_lexer": "ipython3",
   "version": "3.11.6"
  }
 },
 "nbformat": 4,
 "nbformat_minor": 5
}
