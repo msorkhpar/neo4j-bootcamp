{
 "cells": [
  {
   "cell_type": "code",
   "execution_count": null,
   "id": "0",
   "metadata": {},
   "outputs": [],
   "source": [
    "import os\n",
    "\n",
    "os.chdir(\"/home/jovyan/work/\")\n",
    "\n",
    "from neo4j_helper import Neo4jHelper, GraphLayout\n",
    "\n",
    "\n",
    "neo4j = Neo4jHelper.setup_movie_graph()"
   ]
  },
  {
   "cell_type": "markdown",
   "id": "1",
   "metadata": {},
   "source": [
    "### Match with OR labels"
   ]
  },
  {
   "cell_type": "code",
   "execution_count": null,
   "id": "2",
   "metadata": {},
   "outputs": [],
   "source": [
    "neo4j.cypher(\"\"\"\n",
    "    MATCH p=(:Person)-[:ACTED_IN|FOLLOWS|REVIEWED]->(u)\n",
    "    WHERE u:Movie OR u:Person\n",
    "    RETURN p\n",
    "\"\"\").show(layout=GraphLayout.RADIAL)"
   ]
  },
  {
   "cell_type": "markdown",
   "id": "3",
   "metadata": {},
   "source": [
    "### Directors who acted in their own movies"
   ]
  },
  {
   "cell_type": "code",
   "execution_count": null,
   "id": "4",
   "metadata": {},
   "outputs": [],
   "source": [
    "neo4j.cypher(\"\"\"\n",
    "    MATCH (p:Person)-[:DIRECTED]->(m:Movie)<-[:ACTED_IN]-(p)\n",
    "    RETURN p.name, m.title\n",
    "\"\"\").execute_for_dataframe()"
   ]
  },
  {
   "cell_type": "markdown",
   "id": "5",
   "metadata": {},
   "source": [
    "### Co-Actors list by movie"
   ]
  },
  {
   "cell_type": "code",
   "execution_count": null,
   "id": "6",
   "metadata": {},
   "outputs": [],
   "source": [
    "neo4j.cypher(\"\"\"\n",
    "    MATCH (m:Movie)<-[:ACTED_IN]-(a)\n",
    "    RETURN m.title, collect(a.name) AS perormers\n",
    "\"\"\").execute_for_dataframe()"
   ]
  },
  {
   "cell_type": "markdown",
   "id": "7",
   "metadata": {},
   "source": [
    "### Connect actors as colleagues if they acted in the same movie\n",
    "add or append the movie as a property to the relationship."
   ]
  },
  {
   "cell_type": "code",
   "execution_count": null,
   "id": "8",
   "metadata": {},
   "outputs": [],
   "source": [
    "neo4j.cypher(\"\"\"\n",
    "    MATCH (m:Movie)<-[:ACTED_IN]-(a1:Person)\n",
    "    MATCH (m)<-[:ACTED_IN]-(a2:Person)\n",
    "    WHERE id(a1) < id(a2)\n",
    "    MERGE (a1)-[c:COLLEAGUE]->(a2)\n",
    "    ON CREATE SET c.movies = [m.title]\n",
    "    ON MATCH SET c.movies = c.movies + m.title\n",
    "\"\"\").execute()"
   ]
  },
  {
   "cell_type": "code",
   "execution_count": null,
   "id": "9",
   "metadata": {},
   "outputs": [],
   "source": [
    "neo4j.show_all(layout=GraphLayout.RADIAL)"
   ]
  },
  {
   "cell_type": "markdown",
   "id": "10",
   "metadata": {},
   "source": [
    "### Fetch colleagues with more than two shared movies"
   ]
  },
  {
   "cell_type": "code",
   "execution_count": null,
   "id": "11",
   "metadata": {},
   "outputs": [],
   "source": [
    "neo4j.cypher(\"\"\"\n",
    "    MATCH (p:Person)-[c:COLLEAGUE]-(p2:Person)\n",
    "    WHERE size(c.movies) > 2\n",
    "    MATCH (p)-[a:ACTED_IN]-> (m:Movie)<-[a2:ACTED_IN]-(p2)\n",
    "    WHERE m.title IN c.movies\n",
    "    return *\n",
    "\"\"\").execute_for_graph()"
   ]
  },
  {
   "cell_type": "code",
   "execution_count": null,
   "id": "12",
   "metadata": {},
   "outputs": [],
   "source": [
    "neo4j.cypher(\"\"\"\n",
    "    MATCH p=(:Person)-[:COLLEAGUE]->(:Person)\n",
    "    return p\n",
    "\"\"\").show(layout=GraphLayout.RADIAL)"
   ]
  }
 ],
 "metadata": {
  "kernelspec": {
   "display_name": "Python 3 (ipykernel)",
   "language": "python",
   "name": "python3"
  },
  "language_info": {
   "codemirror_mode": {
    "name": "ipython",
    "version": 3
   },
   "file_extension": ".py",
   "mimetype": "text/x-python",
   "name": "python",
   "nbconvert_exporter": "python",
   "pygments_lexer": "ipython3",
   "version": "3.11.6"
  }
 },
 "nbformat": 4,
 "nbformat_minor": 5
}
