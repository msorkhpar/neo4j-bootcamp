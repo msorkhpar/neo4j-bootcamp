{
 "cells": [
  {
   "cell_type": "code",
   "execution_count": 1,
   "id": "4cbbc8f5-b7e0-4f76-b016-88b00a9b0f91",
   "metadata": {
    "ExecuteTime": {
     "end_time": "2024-03-14T04:53:58.977970430Z",
     "start_time": "2024-03-14T04:53:58.969940918Z"
    }
   },
   "outputs": [],
   "source": [
    "import os\n",
    "\n",
    "os.chdir(\"/home/jovyan/work/\")\n",
    "\n",
    "from neo4j_helper import Neo4jHelper\n",
    "\n",
    "neo4j = Neo4jHelper()"
   ]
  },
  {
   "cell_type": "markdown",
   "id": "54022c3a-6803-40f4-86e5-2bed8bbf9e21",
   "metadata": {},
   "source": [
    "## Clear the DB\n"
   ]
  },
  {
   "cell_type": "code",
   "execution_count": 12,
   "id": "156e8d7d-5f91-4bf5-ba2c-5ac5451e4d30",
   "metadata": {
    "ExecuteTime": {
     "end_time": "2024-03-14T04:50:28.834695398Z",
     "start_time": "2024-03-14T04:50:28.781909954Z"
    }
   },
   "outputs": [
    {
     "name": "stdout",
     "output_type": "stream",
     "text": [
      "{'labels_added': 171, '_contains_updates': True, 'relationships_created': 253, 'nodes_created': 171, 'properties_set': 564}\n"
     ]
    }
   ],
   "source": [
    "neo4j.clear_database()\n",
    "neo4j.execute_cypher_file(\"./Section-3/01_movie_graph_setup.cypher\")"
   ]
  },
  {
   "cell_type": "code",
   "execution_count": 13,
   "id": "ff8d19bc-2817-49a8-a8ec-c2ef1f5eefa7",
   "metadata": {
    "ExecuteTime": {
     "end_time": "2024-03-14T04:50:30.306912523Z",
     "start_time": "2024-03-14T04:50:30.167454831Z"
    }
   },
   "outputs": [
    {
     "data": {
      "application/vnd.jupyter.widget-view+json": {
       "model_id": "1f71f9aed95b4c7f8c729132951085fa",
       "version_major": 2,
       "version_minor": 0
      },
      "text/plain": [
       "GraphWidget(layout=Layout(height='500px', width='100%'))"
      ]
     },
     "metadata": {},
     "output_type": "display_data"
    }
   ],
   "source": [
    "g = neo4j.execute_cypher(\"CALL db.schema.visualization()\")\n",
    "g.show()"
   ]
  },
  {
   "cell_type": "code",
   "execution_count": 7,
   "id": "9d6d5d9c34d80bdf",
   "metadata": {
    "collapsed": false,
    "scrolled": true,
    "ExecuteTime": {
     "end_time": "2024-03-14T05:25:45.997463404Z",
     "start_time": "2024-03-14T05:25:45.911671972Z"
    }
   },
   "outputs": [
    {
     "data": {
      "text/plain": "GraphWidget(layout=Layout(height='800px', width='100%'))",
      "application/vnd.jupyter.widget-view+json": {
       "version_major": 2,
       "version_minor": 0,
       "model_id": "736bc0f5e0a14c0d8a8844a85ba62d81"
      }
     },
     "metadata": {},
     "output_type": "display_data"
    }
   ],
   "source": [
    "def movie_caption(node):\n",
    "    return (\n",
    "        node[\"properties\"].get(\"title\", \"\")\n",
    "        if \"title\" in node[\"properties\"]\n",
    "        else node[\"properties\"].get(\"name\", \"\")\n",
    "    )\n",
    "\n",
    "neo4j.show_all(caption=movie_caption)\n"
   ]
  }
 ],
 "metadata": {
  "kernelspec": {
   "display_name": "Python 3 (ipykernel)",
   "language": "python",
   "name": "python3"
  },
  "language_info": {
   "codemirror_mode": {
    "name": "ipython",
    "version": 3
   },
   "file_extension": ".py",
   "mimetype": "text/x-python",
   "name": "python",
   "nbconvert_exporter": "python",
   "pygments_lexer": "ipython3",
   "version": "3.11.6"
  }
 },
 "nbformat": 4,
 "nbformat_minor": 5
}
