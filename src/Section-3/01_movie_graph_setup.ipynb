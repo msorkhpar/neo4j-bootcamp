{
 "cells": [
  {
   "cell_type": "code",
   "execution_count": 2,
   "id": "4cbbc8f5-b7e0-4f76-b016-88b00a9b0f91",
   "metadata": {
    "ExecuteTime": {
     "end_time": "2024-03-14T04:21:53.008413151Z",
     "start_time": "2024-03-14T04:21:53.004427693Z"
    }
   },
   "outputs": [],
   "source": [
    "import os\n",
    "\n",
    "os.chdir(\"/home/jovyan/work/\")\n",
    "\n",
    "from neo4j_helper import Neo4jHelper\n",
    "\n",
    "neo4j = Neo4jHelper()"
   ]
  },
  {
   "cell_type": "markdown",
   "id": "54022c3a-6803-40f4-86e5-2bed8bbf9e21",
   "metadata": {},
   "source": [
    "## Clear the DB\n"
   ]
  },
  {
   "cell_type": "code",
   "execution_count": 3,
   "id": "156e8d7d-5f91-4bf5-ba2c-5ac5451e4d30",
   "metadata": {
    "ExecuteTime": {
     "end_time": "2024-03-14T04:21:55.215874565Z",
     "start_time": "2024-03-14T04:21:55.059978304Z"
    }
   },
   "outputs": [
    {
     "name": "stdout",
     "output_type": "stream",
     "text": [
      "{'labels_added': 171, '_contains_updates': True, 'relationships_created': 253, 'nodes_created': 171, 'properties_set': 564}\n"
     ]
    }
   ],
   "source": [
    "neo4j.clear_database()\n",
    "neo4j.execute_cypher_file(\"./Section-3/01_movie_graph_setup.cypher\")"
   ]
  },
  {
   "cell_type": "code",
   "execution_count": 4,
   "id": "ff8d19bc-2817-49a8-a8ec-c2ef1f5eefa7",
   "metadata": {
    "ExecuteTime": {
     "end_time": "2024-03-14T04:22:00.535406185Z",
     "start_time": "2024-03-14T04:22:00.421929441Z"
    }
   },
   "outputs": [
    {
     "data": {
      "text/plain": "GraphWidget(layout=Layout(height='500px', width='100%'))",
      "application/vnd.jupyter.widget-view+json": {
       "version_major": 2,
       "version_minor": 0,
       "model_id": "3c208d0857c749ce95dd0e07cac69f07"
      }
     },
     "metadata": {},
     "output_type": "display_data"
    }
   ],
   "source": [
    "g = neo4j.execute_cypher(\"CALL db.schema.visualization()\")\n",
    "g.show()"
   ]
  },
  {
   "cell_type": "code",
   "execution_count": 5,
   "id": "9d6d5d9c34d80bdf",
   "metadata": {
    "collapsed": false,
    "scrolled": true,
    "ExecuteTime": {
     "end_time": "2024-03-14T04:22:05.210764101Z",
     "start_time": "2024-03-14T04:22:05.097630554Z"
    }
   },
   "outputs": [
    {
     "data": {
      "text/plain": "GraphWidget(layout=Layout(height='800px', width='100%'))",
      "application/vnd.jupyter.widget-view+json": {
       "version_major": 2,
       "version_minor": 0,
       "model_id": "f5c7aca14c94473fb943a94ca4604ffc"
      }
     },
     "metadata": {},
     "output_type": "display_data"
    }
   ],
   "source": [
    "neo4j.show_all()"
   ]
  }
 ],
 "metadata": {
  "kernelspec": {
   "display_name": "Python 3 (ipykernel)",
   "language": "python",
   "name": "python3"
  },
  "language_info": {
   "codemirror_mode": {
    "name": "ipython",
    "version": 3
   },
   "file_extension": ".py",
   "mimetype": "text/x-python",
   "name": "python",
   "nbconvert_exporter": "python",
   "pygments_lexer": "ipython3",
   "version": "3.11.6"
  }
 },
 "nbformat": 4,
 "nbformat_minor": 5
}
