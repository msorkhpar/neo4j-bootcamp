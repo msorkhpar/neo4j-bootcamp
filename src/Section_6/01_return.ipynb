{
 "cells": [
  {
   "cell_type": "code",
   "execution_count": null,
   "id": "0",
   "metadata": {},
   "outputs": [],
   "source": [
    "import os\n",
    "\n",
    "os.chdir(\"/home/jovyan/work/\")\n",
    "\n",
    "from neo4j_client_util import Neo4jClient, GraphLayout\n",
    "\n",
    "client = Neo4jClient.setup_movie_graph()"
   ]
  },
  {
   "cell_type": "markdown",
   "id": "1",
   "metadata": {},
   "source": [
    "## Simple return query"
   ]
  },
  {
   "cell_type": "code",
   "execution_count": null,
   "id": "2",
   "metadata": {},
   "outputs": [],
   "source": [
    "with client.cypher(\"RETURN (3 + 5) AS add\") as executor:\n",
    "    result = executor.execute_for_dictionary()\n",
    "result['add']"
   ]
  },
  {
   "cell_type": "markdown",
   "id": "3",
   "metadata": {},
   "source": [
    "## Alias"
   ]
  },
  {
   "cell_type": "code",
   "execution_count": null,
   "id": "4",
   "metadata": {},
   "outputs": [],
   "source": [
    "with client.cypher(\"MATCH (a:Person) RETURN a.name AS name, a.born AS born_in LIMIT 10\") as executor:\n",
    "    result = executor.execute_for_dataframe()\n",
    "result"
   ]
  },
  {
   "cell_type": "markdown",
   "id": "5",
   "metadata": {},
   "source": [
    "## Distinct"
   ]
  },
  {
   "cell_type": "code",
   "execution_count": null,
   "id": "6",
   "metadata": {},
   "outputs": [],
   "source": [
    "with client.cypher(\"\"\"\n",
    "    MATCH (a:Person) \n",
    "    RETURN DISTINCT a.born AS born_in \n",
    "    ORDER BY born_in ASC \n",
    "    LIMIT 10\"\"\") as executor:\n",
    "    result = executor.execute_for_dataframe()\n",
    "result"
   ]
  },
  {
   "cell_type": "markdown",
   "id": "7",
   "metadata": {},
   "source": [
    "## Properties"
   ]
  },
  {
   "cell_type": "code",
   "execution_count": null,
   "id": "8",
   "metadata": {},
   "outputs": [],
   "source": [
    "with client.cypher(\"MATCH (a:Person) RETURN properties(a) LIMIT 10\") as executor:\n",
    "    result = executor.execute_for_list()\n",
    "result"
   ]
  },
  {
   "cell_type": "markdown",
   "id": "9",
   "metadata": {},
   "source": [
    "## Labels\n"
   ]
  },
  {
   "cell_type": "code",
   "execution_count": null,
   "id": "10",
   "metadata": {},
   "outputs": [],
   "source": [
    "with client.cypher(\"MATCH (a:Person) RETURN labels(a) LIMIT 10\") as executor:\n",
    "    result = executor.execute_for_list()\n",
    "result"
   ]
  },
  {
   "cell_type": "markdown",
   "id": "11",
   "metadata": {},
   "source": [
    "## Relationship type"
   ]
  },
  {
   "cell_type": "code",
   "execution_count": null,
   "id": "12",
   "metadata": {},
   "outputs": [],
   "source": [
    "with client.cypher(\"\"\"\n",
    "    MATCH (a:Person)-[r]->(m:Movie) \n",
    "    RETURN a.name AS person,type(r) AS rel_type, m.title AS movie \n",
    "    LIMIT 10\"\"\") as executor:\n",
    "    result = executor.execute_for_dataframe()\n",
    "result"
   ]
  },
  {
   "cell_type": "markdown",
   "id": "13",
   "metadata": {},
   "source": [
    "## Return a path"
   ]
  },
  {
   "cell_type": "code",
   "execution_count": null,
   "id": "14",
   "metadata": {},
   "outputs": [],
   "source": [
    "with client.cypher(\"MATCH p = ({name:'Paul Blythe'})-->()-->()-->() RETURN p\") as executor:\n",
    "    executor.with_node_size((120, 120)).show(GraphLayout.RADIAL)"
   ]
  },
  {
   "cell_type": "markdown",
   "id": "15",
   "metadata": {},
   "source": [
    "## Return a path with relationship type"
   ]
  },
  {
   "cell_type": "code",
   "execution_count": null,
   "id": "16",
   "metadata": {},
   "outputs": [],
   "source": [
    "with client.cypher(\"MATCH p = ({name:'Paul Blythe'})-->()-->()-->() RETURN relationships(p)\") as executor:\n",
    "    result=executor.execute_for_list()\n",
    "result"
   ]
  }
 ],
 "metadata": {
  "kernelspec": {
   "display_name": "Python 3 (ipykernel)",
   "language": "python",
   "name": "python3"
  },
  "language_info": {
   "codemirror_mode": {
    "name": "ipython",
    "version": 3
   },
   "file_extension": ".py",
   "mimetype": "text/x-python",
   "name": "python",
   "nbconvert_exporter": "python",
   "pygments_lexer": "ipython3",
   "version": "3.11.6"
  }
 },
 "nbformat": 4,
 "nbformat_minor": 5
}
