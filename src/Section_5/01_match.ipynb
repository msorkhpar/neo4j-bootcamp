{
 "cells": [
  {
   "cell_type": "code",
   "execution_count": null,
   "id": "0",
   "metadata": {},
   "outputs": [],
   "source": [
    "import os\n",
    "os.chdir(\"/home/jovyan/work/\")\n",
    "\n",
    "from neo4j_helper import Neo4jHelper, GraphLayout\n",
    "\n",
    "\n",
    "def movie_caption(node):\n",
    "    return (\n",
    "        node[\"properties\"].get(\"title\", \"\")\n",
    "        if \"title\" in node[\"properties\"]\n",
    "        else node[\"properties\"].get(\"name\", \"\")\n",
    "    )\n",
    "\n",
    "\n",
    "neo4j = Neo4jHelper(caption=movie_caption)"
   ]
  },
  {
   "cell_type": "markdown",
   "id": "1",
   "metadata": {},
   "source": [
    "## Clear the DB\n"
   ]
  },
  {
   "cell_type": "code",
   "execution_count": null,
   "id": "2",
   "metadata": {},
   "outputs": [],
   "source": [
    "neo4j.clear_database()"
   ]
  },
  {
   "cell_type": "markdown",
   "id": "3",
   "metadata": {},
   "source": [
    "## Import Movie Database"
   ]
  },
  {
   "cell_type": "code",
   "execution_count": null,
   "id": "4",
   "metadata": {},
   "outputs": [],
   "source": [
    "neo4j.cypher_file(\"./01_movie_graph_setup.cypher\").execute()"
   ]
  },
  {
   "cell_type": "markdown",
   "id": "5",
   "metadata": {},
   "source": [
    "## Select all -> match p=(n)-[r]-(m) return p"
   ]
  },
  {
   "cell_type": "code",
   "execution_count": null,
   "id": "6",
   "metadata": {},
   "outputs": [],
   "source": [
    "neo4j.cypher(\"MATCH p=()--() RETURN p\").with_node_size((150, 150)).show(layout=GraphLayout.RADIAL)"
   ]
  },
  {
   "cell_type": "markdown",
   "id": "7",
   "metadata": {},
   "source": [
    "## Assign a label"
   ]
  },
  {
   "cell_type": "code",
   "execution_count": null,
   "id": "8",
   "metadata": {},
   "outputs": [],
   "source": [
    "# assign a new label to the filtered movie\n",
    "neo4j.cypher(\"\"\"\n",
    "    MATCH(n{title:'The Da Vinci Code'})\n",
    "    SET n:Action\n",
    "    \"\"\").execute()\n",
    "\n",
    "(\n",
    "    neo4j.cypher(\"\"\"\n",
    "    MATCH(n:Action)\n",
    "    RETURN n\n",
    "    \"\"\")\n",
    "    .with_node_size((150, 150))\n",
    "    .show()\n",
    ")"
   ]
  },
  {
   "cell_type": "markdown",
   "id": "9",
   "metadata": {},
   "source": [
    "## Fetch by the new label"
   ]
  },
  {
   "cell_type": "code",
   "execution_count": null,
   "id": "10",
   "metadata": {},
   "outputs": [],
   "source": [
    "neo4j.cypher(\"\"\"\n",
    "    MATCH(n:Movie:Action)\n",
    "    RETURN n\n",
    "\"\"\").with_node_size((150, 150)).show()"
   ]
  },
  {
   "cell_type": "code",
   "execution_count": null,
   "id": "11",
   "metadata": {},
   "outputs": [],
   "source": [
    "neo4j.cypher(\"\"\"\n",
    "    MATCH(n:Person:Action)\n",
    "    return n\n",
    "\"\"\").with_node_size((150, 150)).execute()"
   ]
  },
  {
   "cell_type": "markdown",
   "id": "12",
   "metadata": {},
   "source": [
    "## Match a node and its in-edge and out-edge neighbors"
   ]
  },
  {
   "cell_type": "code",
   "execution_count": null,
   "id": "13",
   "metadata": {},
   "outputs": [],
   "source": [
    "neo4j.cypher(\"\"\"\n",
    "    MATCH p=(:Person{name:'Tom Hanks'})--()\n",
    "    return p\n",
    "\"\"\").with_node_size((150, 150)).show()"
   ]
  }
 ],
 "metadata": {
  "kernelspec": {
   "display_name": "Python 3 (ipykernel)",
   "language": "python",
   "name": "python3"
  },
  "language_info": {
   "codemirror_mode": {
    "name": "ipython",
    "version": 3
   },
   "file_extension": ".py",
   "mimetype": "text/x-python",
   "name": "python",
   "nbconvert_exporter": "python",
   "pygments_lexer": "ipython3",
   "version": "3.11.6"
  }
 },
 "nbformat": 4,
 "nbformat_minor": 5
}
